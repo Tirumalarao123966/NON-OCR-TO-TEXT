{
 "cells": [
  {
   "cell_type": "code",
   "execution_count": 1,
   "metadata": {},
   "outputs": [
    {
     "name": "stdout",
     "output_type": "stream",
     "text": [
      "Collecting PyPDF2\n",
      "  Using cached PyPDF2-1.26.0.tar.gz (77 kB)\n",
      "Building wheels for collected packages: PyPDF2\n",
      "  Building wheel for PyPDF2 (setup.py): started\n",
      "  Building wheel for PyPDF2 (setup.py): finished with status 'done'\n",
      "  Created wheel for PyPDF2: filename=PyPDF2-1.26.0-py3-none-any.whl size=61087 sha256=cfb4ec1f13dd67ad82f2935f23d6f443196c08ab521fcd70d14e933f6d922900\n",
      "  Stored in directory: c:\\users\\lenovo\\appdata\\local\\pip\\cache\\wheels\\80\\1a\\24\\648467ade3a77ed20f35cfd2badd32134e96dd25ca811e64b3\n",
      "Successfully built PyPDF2\n",
      "Installing collected packages: PyPDF2\n",
      "Successfully installed PyPDF2-1.26.0\n"
     ]
    },
    {
     "name": "stderr",
     "output_type": "stream",
     "text": [
      "WARNING: You are using pip version 20.2.2; however, version 20.3.3 is available.\n",
      "You should consider upgrading via the 'c:\\users\\lenovo\\anaconda3\\python.exe -m pip install --upgrade pip' command.\n"
     ]
    }
   ],
   "source": [
    "!pip install PyPDF2"
   ]
  },
  {
   "cell_type": "code",
   "execution_count": 1,
   "metadata": {},
   "outputs": [],
   "source": [
    "#Now we will import PyPDF2\n",
    "import PyPDF2 as pdf"
   ]
  },
  {
   "cell_type": "code",
   "execution_count": 2,
   "metadata": {},
   "outputs": [],
   "source": [
    "import os\n",
    "os.chdir('F://')  #change directory path"
   ]
  },
  {
   "cell_type": "code",
   "execution_count": 3,
   "metadata": {},
   "outputs": [],
   "source": [
    "#We have used the file sample.pdf in this notebook. \n",
    "#The open() function opens a file, and returns it as a file object. rb opens the file for reading in binary mode.\n",
    "\n",
    "file = open('sample.pdf', 'rb')"
   ]
  },
  {
   "cell_type": "code",
   "execution_count": 4,
   "metadata": {},
   "outputs": [
    {
     "data": {
      "text/plain": [
       "<_io.BufferedReader name='sample.pdf'>"
      ]
     },
     "execution_count": 4,
     "metadata": {},
     "output_type": "execute_result"
    }
   ],
   "source": [
    "file"
   ]
  },
  {
   "cell_type": "code",
   "execution_count": 5,
   "metadata": {},
   "outputs": [],
   "source": [
    "#PdfFileReader(file) initializes a PdfFileReader object for the file handler file\n",
    "pdf_reader = pdf.PdfFileReader(file)"
   ]
  },
  {
   "cell_type": "code",
   "execution_count": 6,
   "metadata": {},
   "outputs": [
    {
     "data": {
      "text/plain": [
       "<PyPDF2.pdf.PdfFileReader at 0x6477390>"
      ]
     },
     "execution_count": 6,
     "metadata": {},
     "output_type": "execute_result"
    }
   ],
   "source": [
    "pdf_reader"
   ]
  },
  {
   "cell_type": "code",
   "execution_count": 7,
   "metadata": {},
   "outputs": [
    {
     "name": "stdout",
     "output_type": "stream",
     "text": [
      "Help on PdfFileReader in module PyPDF2.pdf object:\n",
      "\n",
      "class PdfFileReader(builtins.object)\n",
      " |  PdfFileReader(stream, strict=True, warndest=None, overwriteWarnings=True)\n",
      " |  \n",
      " |  Initializes a PdfFileReader object.  This operation can take some time, as\n",
      " |  the PDF stream's cross-reference tables are read into memory.\n",
      " |  \n",
      " |  :param stream: A File object or an object that supports the standard read\n",
      " |      and seek methods similar to a File object. Could also be a\n",
      " |      string representing a path to a PDF file.\n",
      " |  :param bool strict: Determines whether user should be warned of all\n",
      " |      problems and also causes some correctable problems to be fatal.\n",
      " |      Defaults to ``True``.\n",
      " |  :param warndest: Destination for logging warnings (defaults to\n",
      " |      ``sys.stderr``).\n",
      " |  :param bool overwriteWarnings: Determines whether to override Python's\n",
      " |      ``warnings.py`` module with a custom implementation (defaults to\n",
      " |      ``True``).\n",
      " |  \n",
      " |  Methods defined here:\n",
      " |  \n",
      " |  __init__(self, stream, strict=True, warndest=None, overwriteWarnings=True)\n",
      " |      Initialize self.  See help(type(self)) for accurate signature.\n",
      " |  \n",
      " |  cacheGetIndirectObject(self, generation, idnum)\n",
      " |  \n",
      " |  cacheIndirectObject(self, generation, idnum, obj)\n",
      " |  \n",
      " |  decrypt(self, password)\n",
      " |      When using an encrypted / secured PDF file with the PDF Standard\n",
      " |      encryption handler, this function will allow the file to be decrypted.\n",
      " |      It checks the given password against the document's user password and\n",
      " |      owner password, and then stores the resulting decryption key if either\n",
      " |      password is correct.\n",
      " |      \n",
      " |      It does not matter which password was matched.  Both passwords provide\n",
      " |      the correct decryption key that will allow the document to be used with\n",
      " |      this library.\n",
      " |      \n",
      " |      :param str password: The password to match.\n",
      " |      :return: ``0`` if the password failed, ``1`` if the password matched the user\n",
      " |          password, and ``2`` if the password matched the owner password.\n",
      " |      :rtype: int\n",
      " |      :raises NotImplementedError: if document uses an unsupported encryption\n",
      " |          method.\n",
      " |  \n",
      " |  getDestinationPageNumber(self, destination)\n",
      " |      Retrieve page number of a given Destination object\n",
      " |      \n",
      " |      :param Destination destination: The destination to get page number.\n",
      " |           Should be an instance of\n",
      " |           :class:`Destination<PyPDF2.pdf.Destination>`\n",
      " |      :return: the page number or -1 if page not found\n",
      " |      :rtype: int\n",
      " |  \n",
      " |  getDocumentInfo(self)\n",
      " |      Retrieves the PDF file's document information dictionary, if it exists.\n",
      " |      Note that some PDF files use metadata streams instead of docinfo\n",
      " |      dictionaries, and these metadata streams will not be accessed by this\n",
      " |      function.\n",
      " |      \n",
      " |      :return: the document information of this PDF file\n",
      " |      :rtype: :class:`DocumentInformation<pdf.DocumentInformation>` or ``None`` if none exists.\n",
      " |  \n",
      " |  getFields(self, tree=None, retval=None, fileobj=None)\n",
      " |      Extracts field data if this PDF contains interactive form fields.\n",
      " |      The *tree* and *retval* parameters are for recursive use.\n",
      " |      \n",
      " |      :param fileobj: A file object (usually a text file) to write\n",
      " |          a report to on all interactive form fields found.\n",
      " |      :return: A dictionary where each key is a field name, and each\n",
      " |          value is a :class:`Field<PyPDF2.generic.Field>` object. By\n",
      " |          default, the mapping name is used for keys.\n",
      " |      :rtype: dict, or ``None`` if form data could not be located.\n",
      " |  \n",
      " |  getFormTextFields(self)\n",
      " |      Retrieves form fields from the document with textual data (inputs, dropdowns)\n",
      " |  \n",
      " |  getIsEncrypted(self)\n",
      " |  \n",
      " |  getNamedDestinations(self, tree=None, retval=None)\n",
      " |      Retrieves the named destinations present in the document.\n",
      " |      \n",
      " |      :return: a dictionary which maps names to\n",
      " |          :class:`Destinations<PyPDF2.generic.Destination>`.\n",
      " |      :rtype: dict\n",
      " |  \n",
      " |  getNumPages(self)\n",
      " |      Calculates the number of pages in this PDF file.\n",
      " |      \n",
      " |      :return: number of pages\n",
      " |      :rtype: int\n",
      " |      :raises PdfReadError: if file is encrypted and restrictions prevent\n",
      " |          this action.\n",
      " |  \n",
      " |  getObject(self, indirectReference)\n",
      " |  \n",
      " |  getOutlines(self, node=None, outlines=None)\n",
      " |      Retrieves the document outline present in the document.\n",
      " |      \n",
      " |      :return: a nested list of :class:`Destinations<PyPDF2.generic.Destination>`.\n",
      " |  \n",
      " |  getPage(self, pageNumber)\n",
      " |      Retrieves a page by number from this PDF file.\n",
      " |      \n",
      " |      :param int pageNumber: The page number to retrieve\n",
      " |          (pages begin at zero)\n",
      " |      :return: a :class:`PageObject<pdf.PageObject>` instance.\n",
      " |      :rtype: :class:`PageObject<pdf.PageObject>`\n",
      " |  \n",
      " |  getPageLayout(self)\n",
      " |      Get the page layout.\n",
      " |      See :meth:`setPageLayout()<PdfFileWriter.setPageLayout>`\n",
      " |      for a description of valid layouts.\n",
      " |      \n",
      " |      :return: Page layout currently being used.\n",
      " |      :rtype: ``str``, ``None`` if not specified\n",
      " |  \n",
      " |  getPageMode(self)\n",
      " |      Get the page mode.\n",
      " |      See :meth:`setPageMode()<PdfFileWriter.setPageMode>`\n",
      " |      for a description of valid modes.\n",
      " |      \n",
      " |      :return: Page mode currently being used.\n",
      " |      :rtype: ``str``, ``None`` if not specified\n",
      " |  \n",
      " |  getPageNumber(self, page)\n",
      " |      Retrieve page number of a given PageObject\n",
      " |      \n",
      " |      :param PageObject page: The page to get page number. Should be\n",
      " |          an instance of :class:`PageObject<PyPDF2.pdf.PageObject>`\n",
      " |      :return: the page number or -1 if page not found\n",
      " |      :rtype: int\n",
      " |  \n",
      " |  getXmpMetadata(self)\n",
      " |      Retrieves XMP (Extensible Metadata Platform) data from the PDF document\n",
      " |      root.\n",
      " |      \n",
      " |      :return: a :class:`XmpInformation<xmp.XmpInformation>`\n",
      " |          instance that can be used to access XMP metadata from the document.\n",
      " |      :rtype: :class:`XmpInformation<xmp.XmpInformation>` or\n",
      " |          ``None`` if no metadata was found on the document root.\n",
      " |  \n",
      " |  read(self, stream)\n",
      " |  \n",
      " |  readNextEndLine(self, stream)\n",
      " |  \n",
      " |  readObjectHeader(self, stream)\n",
      " |  \n",
      " |  ----------------------------------------------------------------------\n",
      " |  Data descriptors defined here:\n",
      " |  \n",
      " |  __dict__\n",
      " |      dictionary for instance variables (if defined)\n",
      " |  \n",
      " |  __weakref__\n",
      " |      list of weak references to the object (if defined)\n",
      " |  \n",
      " |  documentInfo\n",
      " |  \n",
      " |  isEncrypted\n",
      " |  \n",
      " |  namedDestinations\n",
      " |  \n",
      " |  numPages\n",
      " |  \n",
      " |  outlines\n",
      " |  \n",
      " |  pageLayout\n",
      " |      Get the page layout.\n",
      " |      See :meth:`setPageLayout()<PdfFileWriter.setPageLayout>`\n",
      " |      for a description of valid layouts.\n",
      " |      \n",
      " |      :return: Page layout currently being used.\n",
      " |      :rtype: ``str``, ``None`` if not specified\n",
      " |  \n",
      " |  pageMode\n",
      " |      Get the page mode.\n",
      " |      See :meth:`setPageMode()<PdfFileWriter.setPageMode>`\n",
      " |      for a description of valid modes.\n",
      " |      \n",
      " |      :return: Page mode currently being used.\n",
      " |      :rtype: ``str``, ``None`` if not specified\n",
      " |  \n",
      " |  pages\n",
      " |  \n",
      " |  xmpMetadata\n",
      "\n"
     ]
    }
   ],
   "source": [
    "#You can check all the operations which we can perform on pdf_reader using help(pdf_reader).\n",
    "help(pdf_reader)"
   ]
  },
  {
   "cell_type": "code",
   "execution_count": 8,
   "metadata": {},
   "outputs": [
    {
     "data": {
      "text/plain": [
       "False"
      ]
     },
     "execution_count": 8,
     "metadata": {},
     "output_type": "execute_result"
    }
   ],
   "source": [
    "#getIsEncrypted() property shows whether the PDF file is encrypted. \n",
    "#It is returning False that means the file which we are using is not encrypted.\n",
    "\n",
    "pdf_reader.getIsEncrypted()"
   ]
  },
  {
   "cell_type": "code",
   "execution_count": 9,
   "metadata": {},
   "outputs": [
    {
     "data": {
      "text/plain": [
       "87"
      ]
     },
     "execution_count": 9,
     "metadata": {},
     "output_type": "execute_result"
    }
   ],
   "source": [
    "#getNumPages() calculates and returns the number of pages in the PDF file.\n",
    "pdf_reader.getNumPages()"
   ]
  },
  {
   "cell_type": "code",
   "execution_count": 10,
   "metadata": {},
   "outputs": [],
   "source": [
    "#getPage() retrieves a page by number from the PDF file.\n",
    "page1 = pdf_reader.getPage(0)"
   ]
  },
  {
   "cell_type": "code",
   "execution_count": 11,
   "metadata": {},
   "outputs": [
    {
     "data": {
      "text/plain": [
       "'lipsum\\nAccessto150paragraphsofLoremIpsumdummytext\\na\\nPatrickHappel\\nb\\nJanuary3,2019\\nAbstract\\nlipsum\\nisaL\\nA\\nT\\nE\\nXpackagethatproducesdummytext\\ntobeusedintestdocumentsorexamples.Thepara-\\ngraphsaretakenwithpermissionfrom\\nhttps://www.\\nlipsum.com/\\n,thankstoJamesWilsonforthiswork.\\nFurthermore,thefollowingpeoplecontributedto\\nlip-\\nsum\\nbysuggestingimprovements,correctingbugsor\\n˝ndingtyposinthedocumentation:FlorentChervet,\\nUlrikeFischer,VincentBelaïche,EnricoGregorio,\\nFrankMittelbach,KarlHagen.\\nPlease,˝lebugreports,typosinthedocumentation\\norfeaturerequestsasanissueon\\nhttps://github.\\ncom/patta42/lipsum/issues\\n.\\na\\nVersion:2.2\\nb\\npatrick.happel@rub.de\\n1Quickusageoverview\\nToloadthepackagespecify\\n\\\\usepackage{lipsum}\\ninthepreambleofyourdocument.Thispackageprovidesseveral\\nmacros.Themostimportantoneis\\n\\\\lipsum\\n.Thismacrotypesets\\n\\\\lipsum\\nthe\\nLoremipsum\\nparagraphs.Ithastwooptionalarguments.The\\n˝rstoneallowstospecifytherangeoftheparagraphs.Forexample,\\n\\\\lipsum[4-57]\\ntypesetstheparagraphs4to57andaccordingly,\\n\\\\lipsum[23]\\ntypesetsthe23\\nrd\\nparagraph.Using\\n\\\\lipsum\\nwith-\\noutitsoptionalargumenttypesetstheparagraphsof\\nLorem\\nipsum...\\nAsofversion2.0,\\n\\\\lipsum\\nhasasecondoptionalargument\\nwhichallowsselectingarangeofsentencesfromtheparagraphs.\\nTogetthesentencesfourtoeightfromparagraphsthreetonine,\\nuse\\n\\\\lipsum[3-9][4-8]\\n.\\n2ForewordtoVersion2.0\\nVersion2.0of\\nlipsum\\nisacomplete(well,nearlycomplete)rewrite\\nofthecodein\\nexpl3\\nsyntax.Ihaveneverused\\nexpl3\\nbeforeand\\nthusthecodemightbetoocomplicated,mightusewrongorbadly\\nchosendatatypesorweirdfunctionnames.Iamhappytoreceive\\ncommentsonthis.\\nDuethecompleterewrite,someinternalshavechangedwhich\\nmightimpactolderdocuments.Since,however,Iguessthat\\nlipsum\\nisnotusedfordocumentswithtrue,important,content,Ithink\\npotentiallybreakingupolddocumentsisnotabigissuehere.The\\nchangesare:\\n‹\\nThepackageoption\\nnopar\\nnowusesa\\n\\\\space\\nasterminator,\\ninsteadof\\n\\\\relax\\n.\\n1\\n'"
      ]
     },
     "execution_count": 11,
     "metadata": {},
     "output_type": "execute_result"
    }
   ],
   "source": [
    "#Page object page1 has function extractText() to extract text from the PDF page.\n",
    "page1.extractText()"
   ]
  },
  {
   "cell_type": "code",
   "execution_count": 12,
   "metadata": {},
   "outputs": [
    {
     "data": {
      "text/plain": [
       "'‹\\nThecommands\\n\\\\UnpackLipsum\\nand\\n\\\\UnpackLipsum*\\nareno\\nlongeravailable.Thee˙ectof\\n\\\\UnpackLipsum\\nnowisde-\\nfaultfor\\n\\\\unpacklipsum\\n(or\\n\\\\unpacklipsum*\\n,dependingon\\nthepackageoption).Thee˙ectof\\n\\\\UnpackLipsum*\\ncanbe\\nmimickedbyusing\\n\\\\LipsumProtect{\\nh\\ncommand\\ni\\n}\\n,asinthe\\nfollowingexample:\\n\\\\documentclass{article}\\n\\\\usepackage{lipsum,xcolor}\\n\\\\newcommand\\\\foo{}\\n\\\\SetLipsumParListItemEnd{\\\\LipsumProtect{\\\\foo}}\\n\\\\begin{document}\\n\\\\renewcommand\\\\foo{\\\\color{.!75!red}}\\n{\\\\lipsumexp}\\n\\\\newcounter{mycnt}\\\\setcounter{mycnt}{1}\\n\\\\renewcommand\\\\foo{%\\n(\\\\themycnt)\\\\stepcounter{mycnt}}\\n\\\\lipsumexp\\n\\\\end{document}\\n‹\\nTheinternalmacros\\n\\\\lips@i\\n,\\n\\\\lips@ii\\n,\\n\\\\lips@iii\\n,...,\\n\\\\lips@cl\\narenolongeravailable.\\n‹\\nAllotherinternalmacros(withoneexception)arenolonger\\navailable,too.\\n3Forewordtoversion2.2\\nAsofversion2.2,\\nlipsum\\nprovidesasimpleinterfacetode˝neother\\ntextstobeusedasoutputofthe\\n\\\\lipsum\\n-familyofcommands.\\nThiswasheavilyinspiredbyanissueraisedby\\nsvenper\\nongithub\\n1\\n.\\nHowever,theimplementationofthisinterfacemightnotmatchthe\\nneedsofeveryonewhowantstoprovideadummytextinanother\\nlanguage.Commentsandsuggestionsonthisareverywelcome.\\nPleasenotethatthedocumentationstillonlyreferstothe\\nLoremipsum...\\n-text.\\n4Usage\\nlipsum\\nwasintendedtoquicklyprovideawayto˝llapageortwoto\\nanalyzethepagelayout\\n2\\n.Whileithasgrowninthemeanwhileand\\nnowprovidessomemoreadvancedfeatures,itstillisonlyintended\\ntoquicklyprovidetext.Ifyouwantmorefeatures,lookatthe\\nblindtext\\n-package.\\n4.1PackageOptions\\nlipsum\\noutputsarangeofparagraphstakenfromthe\\nLoremip-\\nsum...\\ndummytext.Thepackageoptioncontrolshowthesingle\\nparagraphsof\\nLoremipsum...\\nareseparated.Thedefaultistosep-\\naratetheparagaraphwith\\n\\\\par\\n.Oneoptionisavailabletochange\\nthedefaultbehaviour:\\n1\\nhttps://github.com/patta42/lipsum/issues/13\\n2\\nhttps://groups.google.com/d/topic/de.comp.text.tex/oPeLOjkrLfk/\\ndiscussion\\n2\\n'"
      ]
     },
     "execution_count": 12,
     "metadata": {},
     "output_type": "execute_result"
    }
   ],
   "source": [
    "page2 = pdf_reader.getPage(1)\n",
    "page2.extractText()          #Page object page2 has function extractText() to extract text from the PDF page"
   ]
  }
 ],
 "metadata": {
  "kernelspec": {
   "display_name": "Python 3",
   "language": "python",
   "name": "python3"
  },
  "language_info": {
   "codemirror_mode": {
    "name": "ipython",
    "version": 3
   },
   "file_extension": ".py",
   "mimetype": "text/x-python",
   "name": "python",
   "nbconvert_exporter": "python",
   "pygments_lexer": "ipython3",
   "version": "3.7.6"
  }
 },
 "nbformat": 4,
 "nbformat_minor": 4
}
